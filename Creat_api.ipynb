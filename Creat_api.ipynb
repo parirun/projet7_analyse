{
 "cells": [
  {
   "cell_type": "code",
   "execution_count": 1,
   "id": "472cc327-3bb4-4c04-a66b-f867c0b5c43d",
   "metadata": {},
   "outputs": [
    {
     "name": "stdout",
     "output_type": "stream",
     "text": [
      "Requirement already satisfied: flask in c:\\users\\parir\\anaconda3\\envs\\projet7\\lib\\site-packages (3.1.0)\n",
      "Requirement already satisfied: torch in c:\\users\\parir\\anaconda3\\envs\\projet7\\lib\\site-packages (2.6.0)\n",
      "Requirement already satisfied: transformers in c:\\users\\parir\\anaconda3\\envs\\projet7\\lib\\site-packages (4.48.3)\n",
      "Collecting azure-storage-blob\n",
      "  Downloading azure_storage_blob-12.25.0-py3-none-any.whl.metadata (26 kB)\n",
      "Requirement already satisfied: Werkzeug>=3.1 in c:\\users\\parir\\anaconda3\\envs\\projet7\\lib\\site-packages (from flask) (3.1.3)\n",
      "Requirement already satisfied: Jinja2>=3.1.2 in c:\\users\\parir\\anaconda3\\envs\\projet7\\lib\\site-packages (from flask) (3.1.4)\n",
      "Requirement already satisfied: itsdangerous>=2.2 in c:\\users\\parir\\anaconda3\\envs\\projet7\\lib\\site-packages (from flask) (2.2.0)\n",
      "Requirement already satisfied: click>=8.1.3 in c:\\users\\parir\\anaconda3\\envs\\projet7\\lib\\site-packages (from flask) (8.1.7)\n",
      "Requirement already satisfied: blinker>=1.9 in c:\\users\\parir\\anaconda3\\envs\\projet7\\lib\\site-packages (from flask) (1.9.0)\n",
      "Requirement already satisfied: filelock in c:\\users\\parir\\anaconda3\\envs\\projet7\\lib\\site-packages (from torch) (3.17.0)\n",
      "Requirement already satisfied: typing-extensions>=4.10.0 in c:\\users\\parir\\anaconda3\\envs\\projet7\\lib\\site-packages (from torch) (4.12.2)\n",
      "Requirement already satisfied: networkx in c:\\users\\parir\\anaconda3\\envs\\projet7\\lib\\site-packages (from torch) (3.4.2)\n",
      "Requirement already satisfied: fsspec in c:\\users\\parir\\anaconda3\\envs\\projet7\\lib\\site-packages (from torch) (2024.9.0)\n",
      "Requirement already satisfied: setuptools in c:\\users\\parir\\anaconda3\\envs\\projet7\\lib\\site-packages (from torch) (75.1.0)\n",
      "Requirement already satisfied: sympy==1.13.1 in c:\\users\\parir\\anaconda3\\envs\\projet7\\lib\\site-packages (from torch) (1.13.1)\n",
      "Requirement already satisfied: mpmath<1.4,>=1.1.0 in c:\\users\\parir\\anaconda3\\envs\\projet7\\lib\\site-packages (from sympy==1.13.1->torch) (1.3.0)\n",
      "Requirement already satisfied: huggingface-hub<1.0,>=0.24.0 in c:\\users\\parir\\anaconda3\\envs\\projet7\\lib\\site-packages (from transformers) (0.28.1)\n",
      "Requirement already satisfied: numpy>=1.17 in c:\\users\\parir\\anaconda3\\envs\\projet7\\lib\\site-packages (from transformers) (2.0.2)\n",
      "Requirement already satisfied: packaging>=20.0 in c:\\users\\parir\\anaconda3\\envs\\projet7\\lib\\site-packages (from transformers) (24.2)\n",
      "Requirement already satisfied: pyyaml>=5.1 in c:\\users\\parir\\anaconda3\\envs\\projet7\\lib\\site-packages (from transformers) (6.0.2)\n",
      "Requirement already satisfied: regex!=2019.12.17 in c:\\users\\parir\\anaconda3\\envs\\projet7\\lib\\site-packages (from transformers) (2024.11.6)\n",
      "Requirement already satisfied: requests in c:\\users\\parir\\anaconda3\\envs\\projet7\\lib\\site-packages (from transformers) (2.32.3)\n",
      "Requirement already satisfied: tokenizers<0.22,>=0.21 in c:\\users\\parir\\anaconda3\\envs\\projet7\\lib\\site-packages (from transformers) (0.21.0)\n",
      "Requirement already satisfied: safetensors>=0.4.1 in c:\\users\\parir\\anaconda3\\envs\\projet7\\lib\\site-packages (from transformers) (0.5.2)\n",
      "Requirement already satisfied: tqdm>=4.27 in c:\\users\\parir\\anaconda3\\envs\\projet7\\lib\\site-packages (from transformers) (4.67.1)\n",
      "Collecting azure-core>=1.30.0 (from azure-storage-blob)\n",
      "  Downloading azure_core-1.32.0-py3-none-any.whl.metadata (39 kB)\n",
      "Collecting cryptography>=2.1.4 (from azure-storage-blob)\n",
      "  Downloading cryptography-44.0.2-cp39-abi3-win_amd64.whl.metadata (5.7 kB)\n",
      "Collecting isodate>=0.6.1 (from azure-storage-blob)\n",
      "  Downloading isodate-0.7.2-py3-none-any.whl.metadata (11 kB)\n",
      "Requirement already satisfied: six>=1.11.0 in c:\\users\\parir\\anaconda3\\envs\\projet7\\lib\\site-packages (from azure-core>=1.30.0->azure-storage-blob) (1.16.0)\n",
      "Requirement already satisfied: colorama in c:\\users\\parir\\anaconda3\\envs\\projet7\\lib\\site-packages (from click>=8.1.3->flask) (0.4.6)\n",
      "Requirement already satisfied: cffi>=1.12 in c:\\users\\parir\\anaconda3\\envs\\projet7\\lib\\site-packages (from cryptography>=2.1.4->azure-storage-blob) (1.17.1)\n",
      "Requirement already satisfied: MarkupSafe>=2.0 in c:\\users\\parir\\anaconda3\\envs\\projet7\\lib\\site-packages (from Jinja2>=3.1.2->flask) (2.1.3)\n",
      "Requirement already satisfied: charset-normalizer<4,>=2 in c:\\users\\parir\\anaconda3\\envs\\projet7\\lib\\site-packages (from requests->transformers) (3.3.2)\n",
      "Requirement already satisfied: idna<4,>=2.5 in c:\\users\\parir\\anaconda3\\envs\\projet7\\lib\\site-packages (from requests->transformers) (3.7)\n",
      "Requirement already satisfied: urllib3<3,>=1.21.1 in c:\\users\\parir\\anaconda3\\envs\\projet7\\lib\\site-packages (from requests->transformers) (2.2.3)\n",
      "Requirement already satisfied: certifi>=2017.4.17 in c:\\users\\parir\\anaconda3\\envs\\projet7\\lib\\site-packages (from requests->transformers) (2024.12.14)\n",
      "Requirement already satisfied: pycparser in c:\\users\\parir\\anaconda3\\envs\\projet7\\lib\\site-packages (from cffi>=1.12->cryptography>=2.1.4->azure-storage-blob) (2.21)\n",
      "Downloading azure_storage_blob-12.25.0-py3-none-any.whl (406 kB)\n",
      "Downloading azure_core-1.32.0-py3-none-any.whl (198 kB)\n",
      "Downloading cryptography-44.0.2-cp39-abi3-win_amd64.whl (3.2 MB)\n",
      "   ---------------------------------------- 0.0/3.2 MB ? eta -:--:--\n",
      "   ------------------- -------------------- 1.6/3.2 MB 8.4 MB/s eta 0:00:01\n",
      "   ---------------------------------------- 3.2/3.2 MB 9.5 MB/s eta 0:00:00\n",
      "Downloading isodate-0.7.2-py3-none-any.whl (22 kB)\n",
      "Installing collected packages: isodate, cryptography, azure-core, azure-storage-blob\n",
      "Successfully installed azure-core-1.32.0 azure-storage-blob-12.25.0 cryptography-44.0.2 isodate-0.7.2\n",
      "Note: you may need to restart the kernel to use updated packages.\n"
     ]
    }
   ],
   "source": [
    "pip install flask torch transformers azure-storage-blob"
   ]
  }
 ],
 "metadata": {
  "kernelspec": {
   "display_name": "Python 3 (ipykernel)",
   "language": "python",
   "name": "python3"
  },
  "language_info": {
   "codemirror_mode": {
    "name": "ipython",
    "version": 3
   },
   "file_extension": ".py",
   "mimetype": "text/x-python",
   "name": "python",
   "nbconvert_exporter": "python",
   "pygments_lexer": "ipython3",
   "version": "3.12.8"
  }
 },
 "nbformat": 4,
 "nbformat_minor": 5
}
